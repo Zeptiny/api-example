{
 "cells": [
  {
   "cell_type": "markdown",
   "id": "b39e1b6c",
   "metadata": {},
   "source": [
    "# Testing scripts for API Consumption\n",
    "This file contains various scripts to test the API endpoints of the backend service. Each script is designed to perform specific tasks such as sending requests, handling responses, and validating the functionality of the API."
   ]
  },
  {
   "cell_type": "markdown",
   "id": "fbdb9b2f",
   "metadata": {},
   "source": [
    "## Setup"
   ]
  },
  {
   "cell_type": "code",
   "execution_count": null,
   "id": "9fe80f88",
   "metadata": {},
   "outputs": [],
   "source": [
    "import requests\n",
    "import json\n",
    "\n",
    "API_URL = \"http://localhost:8080\"  # Change this to your backend URL if needed"
   ]
  },
  {
   "cell_type": "markdown",
   "id": "81816326",
   "metadata": {},
   "source": [
    "## Status\n",
    "Get the API current status"
   ]
  },
  {
   "cell_type": "code",
   "execution_count": null,
   "id": "b6c34b85",
   "metadata": {},
   "outputs": [],
   "source": [
    "request = requests.get(f\"{API_URL}/status\")\n",
    "print(json.dumps(request.json(), indent=2))"
   ]
  },
  {
   "cell_type": "markdown",
   "id": "2fde7e07",
   "metadata": {},
   "source": [
    "## Data\n",
    "Get sample data from the API"
   ]
  },
  {
   "cell_type": "code",
   "execution_count": null,
   "id": "3fd72872",
   "metadata": {},
   "outputs": [],
   "source": [
    "request = requests.get(f\"{API_URL}/data\")\n",
    "print(json.dumps(request.json(), indent=2))"
   ]
  },
  {
   "cell_type": "markdown",
   "id": "d8c5c787",
   "metadata": {},
   "source": [
    "## Random\n",
    "Get random number and string from the API"
   ]
  },
  {
   "cell_type": "code",
   "execution_count": null,
   "id": "48dfd2a0",
   "metadata": {},
   "outputs": [],
   "source": [
    "request = requests.get(f\"{API_URL}/random\")\n",
    "print(\"Full Request:\\n\", json.dumps(request.json(), indent=2))\n",
    "print(\"Generated Number:\", request.json().get(\"number\"))\n",
    "print(\"Generated String:\", request.json().get(\"string\"))"
   ]
  },
  {
   "cell_type": "markdown",
   "id": "cb818348",
   "metadata": {},
   "source": [
    "## Users\n",
    "Get all users, create, update and delete a user"
   ]
  },
  {
   "cell_type": "markdown",
   "id": "1cff1e14",
   "metadata": {},
   "source": [
    "### User List\n",
    "Get the list of all users"
   ]
  },
  {
   "cell_type": "code",
   "execution_count": null,
   "id": "9791faa8",
   "metadata": {},
   "outputs": [],
   "source": [
    "request = requests.get(f\"{API_URL}/users\")\n",
    "print(\"Full Request:\\n\", json.dumps(request.json(), indent=2))\n",
    "print(\"Total Users:\", len(request.json()))\n",
    "print(\"User List:\", json.dumps(request.json(), indent=2))"
   ]
  },
  {
   "cell_type": "markdown",
   "id": "4f5e4d23",
   "metadata": {},
   "source": [
    "### Create a User\n",
    "Create a new user in the system"
   ]
  },
  {
   "cell_type": "code",
   "execution_count": null,
   "id": "c7ee18df",
   "metadata": {},
   "outputs": [],
   "source": [
    "new_user_username = \"Alice\"\n",
    "new_user_email = \"alice@example.com\"\n",
    "\n",
    "payload = {\n",
    "    \"username\": new_user_username,\n",
    "    \"email\": new_user_email\n",
    "}\n",
    "\n",
    "request = requests.post(f\"{API_URL}/users\", json=payload)\n",
    "\n",
    "print(\"Full Request:\\n\", json.dumps(request.json(), indent=2))\n",
    "\n",
    "created_user = request.json()"
   ]
  },
  {
   "cell_type": "markdown",
   "id": "c8b88e82",
   "metadata": {},
   "source": [
    "### Update a User\n",
    "Update the details of the user created above.\n",
    "As this is a put request, we need to send all the information again, even if we only update one field."
   ]
  },
  {
   "cell_type": "code",
   "execution_count": null,
   "id": "0b252f3f",
   "metadata": {},
   "outputs": [],
   "source": [
    "user_id = created_user.get(\"id\")\n",
    "updated_email = \"alice.new@example.com\"\n",
    "\n",
    "payload = {\n",
    "    \"username\": created_user.get(\"username\"),\n",
    "    \"email\": updated_email\n",
    "}\n",
    "\n",
    "request = requests.put(f\"{API_URL}/users/{user_id}\", json=payload)\n",
    "\n",
    "print(\"Full Request:\\n\", json.dumps(request.json(), indent=2))"
   ]
  },
  {
   "cell_type": "markdown",
   "id": "f63bd7d7",
   "metadata": {},
   "source": [
    "### Delete a User\n",
    "Delete the user created above."
   ]
  },
  {
   "cell_type": "code",
   "execution_count": null,
   "id": "2172a44a",
   "metadata": {},
   "outputs": [],
   "source": [
    "request = requests.delete(f\"{API_URL}/users/{user_id}\")\n",
    "\n",
    "print(\"Full Request:\\n\", json.dumps(request.json(), indent=2))"
   ]
  }
 ],
 "metadata": {
  "kernelspec": {
   "display_name": ".venv",
   "language": "python",
   "name": "python3"
  },
  "language_info": {
   "codemirror_mode": {
    "name": "ipython",
    "version": 3
   },
   "file_extension": ".py",
   "mimetype": "text/x-python",
   "name": "python",
   "nbconvert_exporter": "python",
   "pygments_lexer": "ipython3",
   "version": "3.13.7"
  }
 },
 "nbformat": 4,
 "nbformat_minor": 5
}
